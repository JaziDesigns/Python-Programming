{
 "cells": [
  {
   "cell_type": "markdown",
   "metadata": {},
   "source": [
    "### Variables and Strings"
   ]
  },
  {
   "cell_type": "code",
   "execution_count": 2,
   "metadata": {},
   "outputs": [
    {
     "name": "stdout",
     "output_type": "stream",
     "text": [
      "Assalam-o-Alaikum!\n"
     ]
    }
   ],
   "source": [
    "# greetings is a variable\n",
    "greetings = \"Assalam-o-Alaikum!\"\n",
    "print(greetings)"
   ]
  },
  {
   "cell_type": "code",
   "execution_count": 4,
   "metadata": {},
   "outputs": [
    {
     "name": "stdout",
     "output_type": "stream",
     "text": [
      "Jazi Dessigns\n"
     ]
    }
   ],
   "source": [
    "# Concatenation\n",
    "first_name = \"Jazi\"\n",
    "last_name = \"Dessigns\"\n",
    "full_name = first_name + \" \" + last_name\n",
    "print(full_name)"
   ]
  },
  {
   "cell_type": "markdown",
   "metadata": {},
   "source": [
    "### Lists"
   ]
  },
  {
   "cell_type": "code",
   "execution_count": 5,
   "metadata": {},
   "outputs": [],
   "source": [
    "# List is created\n",
    "Jazi_Designs = [\"Python\", \"Data Science\", \"Machine Learning\"] "
   ]
  },
  {
   "cell_type": "code",
   "execution_count": 6,
   "metadata": {},
   "outputs": [
    {
     "name": "stdout",
     "output_type": "stream",
     "text": [
      "Python\n"
     ]
    }
   ],
   "source": [
    "# Get first item\n",
    "first_element = Jazi_Designs[0]\n",
    "print(first_element)"
   ]
  },
  {
   "cell_type": "code",
   "execution_count": 7,
   "metadata": {},
   "outputs": [
    {
     "name": "stdout",
     "output_type": "stream",
     "text": [
      "Machine Learning\n"
     ]
    }
   ],
   "source": [
    "# Get last item\n",
    "last_element = Jazi_Designs[-1]\n",
    "print(last_element)"
   ]
  },
  {
   "cell_type": "code",
   "execution_count": 9,
   "metadata": {},
   "outputs": [
    {
     "name": "stdout",
     "output_type": "stream",
     "text": [
      "Python\n",
      "Data Science\n",
      "Machine Learning\n"
     ]
    }
   ],
   "source": [
    "# looping through a list\n",
    "for elements in Jazi_Designs:\n",
    "    print(elements)"
   ]
  },
  {
   "cell_type": "code",
   "execution_count": 10,
   "metadata": {},
   "outputs": [
    {
     "name": "stdout",
     "output_type": "stream",
     "text": [
      "['Python', 'Data Science', 'Machine Learning', 'Deep Learning', 'Neural Networks', 'Artificial Intelligence']\n"
     ]
    }
   ],
   "source": [
    "# Adding item to a existing list\n",
    "Jazi_Designs.append(\"Deep Learning\")\n",
    "Jazi_Designs.append(\"Neural Networks\")\n",
    "Jazi_Designs.append(\"Artificial Intelligence\")\n",
    "print(Jazi_Designs)"
   ]
  },
  {
   "cell_type": "code",
   "execution_count": 11,
   "metadata": {},
   "outputs": [
    {
     "name": "stdout",
     "output_type": "stream",
     "text": [
      "[1, 4, 9, 16, 25, 36, 49, 64, 81, 100]\n"
     ]
    }
   ],
   "source": [
    "# Making Numerical list\n",
    "squares = []\n",
    "for x in range(1, 11):\n",
    "    squares.append(x ** 2)\n",
    "print(squares)"
   ]
  },
  {
   "cell_type": "code",
   "execution_count": 12,
   "metadata": {},
   "outputs": [
    {
     "data": {
      "text/plain": [
       "[1, 4, 9, 16, 25, 36, 49, 64, 81, 100]"
      ]
     },
     "execution_count": 12,
     "metadata": {},
     "output_type": "execute_result"
    }
   ],
   "source": [
    "# List comprehension\n",
    "squares = [x ** 2 for x in range(1, 11)]\n",
    "squares"
   ]
  },
  {
   "cell_type": "code",
   "execution_count": 13,
   "metadata": {},
   "outputs": [
    {
     "name": "stdout",
     "output_type": "stream",
     "text": [
      "['Python', 'Data Science']\n"
     ]
    }
   ],
   "source": [
    "# Slicing a list\n",
    "Jazi_Designs = ['Python', 'Data Science', 'Machine Learning']\n",
    "first_two = Jazi_Designs[:2]\n",
    "print(first_two)"
   ]
  },
  {
   "cell_type": "code",
   "execution_count": 14,
   "metadata": {},
   "outputs": [
    {
     "name": "stdout",
     "output_type": "stream",
     "text": [
      "['Python', 'Data Science', 'Machine Learning']\n"
     ]
    }
   ],
   "source": [
    "# Copying a list\n",
    "Copy_Jazi_Designs = Jazi_Designs[:]\n",
    "print(Copy_Jazi_Designs)"
   ]
  },
  {
   "cell_type": "markdown",
   "metadata": {},
   "source": [
    "### Tuples"
   ]
  },
  {
   "cell_type": "code",
   "execution_count": 16,
   "metadata": {},
   "outputs": [
    {
     "name": "stdout",
     "output_type": "stream",
     "text": [
      "('Facebook Page', 'Youtube Channel')\n"
     ]
    }
   ],
   "source": [
    "# Tuples cannot be modified\n",
    "Jazi_Designs = (\"Facebook Page\", \"Youtube Channel\")\n",
    "print(Jazi_Designs)"
   ]
  },
  {
   "cell_type": "markdown",
   "metadata": {},
   "source": [
    "### If statement"
   ]
  },
  {
   "cell_type": "code",
   "execution_count": 19,
   "metadata": {},
   "outputs": [
    {
     "name": "stdout",
     "output_type": "stream",
     "text": [
      "False\n",
      "True\n",
      "True\n",
      "True\n",
      "False\n",
      "False\n"
     ]
    }
   ],
   "source": [
    "# Conditional tests\n",
    "x = 46\n",
    "\n",
    "print(x == 42)\n",
    "print(x != 42)\n",
    "print(x > 42)\n",
    "print(x >= 42)\n",
    "print(x < 42)\n",
    "print(x <= 42)"
   ]
  },
  {
   "cell_type": "code",
   "execution_count": 21,
   "metadata": {},
   "outputs": [
    {
     "data": {
      "text/plain": [
       "False"
      ]
     },
     "execution_count": 21,
     "metadata": {},
     "output_type": "execute_result"
    }
   ],
   "source": [
    "# Conditional test with lists\n",
    "Jazi_Designs = [\"Data Science\", \"Economics\", \"Statistics\", \"Database\", \"Mathematics\"]\n",
    "\"Java\" in Jazi_Designs"
   ]
  },
  {
   "cell_type": "code",
   "execution_count": 22,
   "metadata": {},
   "outputs": [],
   "source": [
    "# Assigning boolean values\n",
    "game = True\n",
    "sports = False"
   ]
  },
  {
   "cell_type": "code",
   "execution_count": 24,
   "metadata": {},
   "outputs": [
    {
     "name": "stdout",
     "output_type": "stream",
     "text": [
      "You can watch videos related to Data Science on Jazi Designs\n"
     ]
    }
   ],
   "source": [
    "# A simple if test\n",
    "youtube_channel = \"Jazi Designs\"\n",
    "if youtube_channel == \"Jazi Designs\":\n",
    "    print(\"You can watch videos related to Data Science on Jazi Designs\")"
   ]
  },
  {
   "cell_type": "code",
   "execution_count": 28,
   "metadata": {},
   "outputs": [
    {
     "name": "stdout",
     "output_type": "stream",
     "text": [
      "Find Jazi Designs on Youtube and on Facebook\n"
     ]
    }
   ],
   "source": [
    "# if-elif-else statements\n",
    "website = \"Google\"\n",
    "if website == \"Facebook\":\n",
    "    print(\"Jazi Designs exist on facebook as well as on youtube\")\n",
    "elif website == \"Youtube\":\n",
    "    print(\"Jazi Designs exist on youtube as well as on facebook\")\n",
    "else:\n",
    "    print(\"Find Jazi Designs on Youtube and on Facebook\")"
   ]
  },
  {
   "cell_type": "markdown",
   "metadata": {},
   "source": [
    "### Dictionaries"
   ]
  },
  {
   "cell_type": "code",
   "execution_count": 31,
   "metadata": {},
   "outputs": [
    {
     "name": "stdout",
     "output_type": "stream",
     "text": [
      "{'programming': 'python', 'domain': 'data science'}\n"
     ]
    }
   ],
   "source": [
    "# Dictionary\n",
    "Jazi_Designs = {\"programming\": \"python\", \n",
    "                \"domain\": \"data science\"}\n",
    "print(Jazi_Designs)"
   ]
  },
  {
   "cell_type": "code",
   "execution_count": 33,
   "metadata": {},
   "outputs": [
    {
     "name": "stdout",
     "output_type": "stream",
     "text": [
      "The language Jazi Designs using is python\n"
     ]
    }
   ],
   "source": [
    "# Accessing a value\n",
    "print(\"The language Jazi Designs using is \" + Jazi_Designs[\"programming\"])"
   ]
  },
  {
   "cell_type": "code",
   "execution_count": 37,
   "metadata": {},
   "outputs": [
    {
     "name": "stdout",
     "output_type": "stream",
     "text": [
      "{'programming': 'python', 'domain': 'data science', 'Specialization': 'Business Intelligence'}\n"
     ]
    }
   ],
   "source": [
    "# Adding a new key-value pair\n",
    "Jazi_Designs[\"Specialization\"] = \"Business Intelligence\"\n",
    "print(Jazi_Designs)"
   ]
  },
  {
   "cell_type": "code",
   "execution_count": 46,
   "metadata": {},
   "outputs": [
    {
     "name": "stdout",
     "output_type": "stream",
     "text": [
      "programming: python\n",
      "domain: data science\n",
      "Specialization: Business Intelligence\n"
     ]
    }
   ],
   "source": [
    "# Looping through all keys-value pairs\n",
    "Dictionary = Jazi_Designs\n",
    "for items, values in Dictionary.items():\n",
    "    print(items + \": \" + values)"
   ]
  },
  {
   "cell_type": "code",
   "execution_count": 49,
   "metadata": {},
   "outputs": [
    {
     "name": "stdout",
     "output_type": "stream",
     "text": [
      "programming\n",
      "domain\n",
      "Specialization\n"
     ]
    }
   ],
   "source": [
    "# Looping through all keys\n",
    "for key in Dictionary.keys():\n",
    "    print(key)"
   ]
  },
  {
   "cell_type": "code",
   "execution_count": 50,
   "metadata": {},
   "outputs": [
    {
     "name": "stdout",
     "output_type": "stream",
     "text": [
      "python\n",
      "data science\n",
      "Business Intelligence\n"
     ]
    }
   ],
   "source": [
    "# Looping through all values\n",
    "for values in Dictionary.values():\n",
    "    print(values)"
   ]
  },
  {
   "cell_type": "markdown",
   "metadata": {},
   "source": [
    "### User Input"
   ]
  },
  {
   "cell_type": "code",
   "execution_count": 52,
   "metadata": {},
   "outputs": [
    {
     "name": "stdout",
     "output_type": "stream",
     "text": [
      "Name of Youtube Channel: Jazi Designs\n",
      "Jazi Designs\n"
     ]
    }
   ],
   "source": [
    "# input\n",
    "name = input(\"Name of Youtube Channel: \")\n",
    "print(name)"
   ]
  },
  {
   "cell_type": "code",
   "execution_count": 54,
   "metadata": {},
   "outputs": [
    {
     "name": "stdout",
     "output_type": "stream",
     "text": [
      "How old is the youtube channel: 2\n",
      "2 months\n"
     ]
    }
   ],
   "source": [
    "# input\n",
    "month = input(\"How old is the youtube channel: \")\n",
    "print(int(month), \"months\")"
   ]
  },
  {
   "cell_type": "markdown",
   "metadata": {},
   "source": [
    "### While Loops"
   ]
  },
  {
   "cell_type": "code",
   "execution_count": 55,
   "metadata": {},
   "outputs": [
    {
     "name": "stdout",
     "output_type": "stream",
     "text": [
      "1\n",
      "2\n",
      "3\n",
      "4\n",
      "5\n"
     ]
    }
   ],
   "source": [
    "# print 1 to 5\n",
    "value = 1\n",
    "while value <= 5:\n",
    "    print(value)\n",
    "    value += 1"
   ]
  },
  {
   "cell_type": "code",
   "execution_count": 56,
   "metadata": {},
   "outputs": [
    {
     "name": "stdout",
     "output_type": "stream",
     "text": [
      "What's your message? \"Jazi Designs\n",
      "\"Jazi Designs\n",
      "What's your message? Data Science\n",
      "Data Science\n",
      "What's your message? Machine Learning'\n",
      "Machine Learning'\n",
      "What's your message? Business Intelligence\n",
      "Business Intelligence\n",
      "What's your message? quit\n",
      "quit\n"
     ]
    }
   ],
   "source": [
    "# input\n",
    "msg = \"\"\n",
    "while msg != \"quit\":\n",
    "    msg = input(\"What's your message? \")\n",
    "    print(msg)"
   ]
  },
  {
   "cell_type": "markdown",
   "metadata": {},
   "source": [
    "### Functions"
   ]
  },
  {
   "cell_type": "code",
   "execution_count": 57,
   "metadata": {},
   "outputs": [
    {
     "name": "stdout",
     "output_type": "stream",
     "text": [
      "Jazi Designs\n"
     ]
    }
   ],
   "source": [
    "# channel\n",
    "def channel():\n",
    "    print(\"Jazi Designs\")\n",
    "channel()"
   ]
  },
  {
   "cell_type": "code",
   "execution_count": 59,
   "metadata": {},
   "outputs": [
    {
     "name": "stdout",
     "output_type": "stream",
     "text": [
      "Youtube channel name is Jazi Designs\n"
     ]
    }
   ],
   "source": [
    "# passing an argument\n",
    "def channel(name):\n",
    "    print(\"Youtube channel name is \" + name)\n",
    "channel(\"Jazi Designs\")"
   ]
  },
  {
   "cell_type": "code",
   "execution_count": 61,
   "metadata": {},
   "outputs": [
    {
     "name": "stdout",
     "output_type": "stream",
     "text": [
      "Jazi Designs is working for students to learn Data Science on Youtube\n",
      "Jazi Designs is working for students to learn Data Science on facebook\n"
     ]
    }
   ],
   "source": [
    "# default values for parameters\n",
    "def website(name = \"Youtube\"):\n",
    "    print(\"Jazi Designs is working for students to learn Data Science on \" + name)\n",
    "website()\n",
    "website(\"facebook\")"
   ]
  },
  {
   "cell_type": "code",
   "execution_count": 65,
   "metadata": {},
   "outputs": [
    {
     "name": "stdout",
     "output_type": "stream",
     "text": [
      "Jazi Designs on Facebook\n",
      "Jazi Designs on Youtube\n"
     ]
    }
   ],
   "source": [
    "# Returning a value\n",
    "def internet(name, website):\n",
    "    return name + \" on \" + website\n",
    "\n",
    "info1 = internet(\"Jazi Designs\", \"Facebook\")\n",
    "print(info1)\n",
    "\n",
    "info2 = internet(\"Jazi Designs\", \"Youtube\")\n",
    "print(info2)"
   ]
  },
  {
   "cell_type": "markdown",
   "metadata": {},
   "source": [
    "### Classes"
   ]
  },
  {
   "cell_type": "code",
   "execution_count": 77,
   "metadata": {},
   "outputs": [
    {
     "name": "stdout",
     "output_type": "stream",
     "text": [
      "Youtube\n",
      "Youtube has a channel (Jazi Designs) for Data Science\n"
     ]
    }
   ],
   "source": [
    "# Creating a class\n",
    "class Internet():\n",
    "    def __init__(self, name):\n",
    "        self.name = name\n",
    "        \n",
    "    def website(self):\n",
    "        print(self.name + \" has a channel (Jazi Designs) for Data Science\")\n",
    "\n",
    "I = Internet(\"Youtube\") # Class Object\n",
    "print(I.name)\n",
    "\n",
    "I.website()                  # Class Object call function "
   ]
  },
  {
   "cell_type": "code",
   "execution_count": 79,
   "metadata": {},
   "outputs": [
    {
     "name": "stdout",
     "output_type": "stream",
     "text": [
      "Facebook\n",
      "Facebook has a channel (Jazi Designs) for Data Science\n",
      "Facebook has a page (Jazi Designs) for Data Science\n"
     ]
    }
   ],
   "source": [
    "# Inheritence\n",
    "\n",
    "class Net(Internet):\n",
    "    def __init__(self, name):\n",
    "        super().__init__(name)  # Super Class\n",
    "        \n",
    "    def medium(self):\n",
    "        print(self.name + \" has a page (Jazi Designs) for Data Science\")\n",
    "        \n",
    "N = Net(\"Facebook\") # Class object\n",
    "print(N.name)\n",
    "N.website()\n",
    "N.medium()  # Class object call function"
   ]
  },
  {
   "cell_type": "markdown",
   "metadata": {},
   "source": [
    "### Working with files "
   ]
  },
  {
   "cell_type": "code",
   "execution_count": 13,
   "metadata": {},
   "outputs": [],
   "source": [
    "# Create and Write in a file\n",
    "with open(\"writing.txt\", \"w\") as file_object:\n",
    "    file_object.write(\"I like Jazi Designs.\\nJazi Designs founded by Sarmad Hassan.\")"
   ]
  },
  {
   "cell_type": "code",
   "execution_count": 2,
   "metadata": {},
   "outputs": [
    {
     "data": {
      "text/plain": [
       "<_io.TextIOWrapper name='writing.txt' mode='w' encoding='cp1252'>"
      ]
     },
     "execution_count": 2,
     "metadata": {},
     "output_type": "execute_result"
    }
   ],
   "source": [
    "file_object"
   ]
  },
  {
   "cell_type": "code",
   "execution_count": 8,
   "metadata": {},
   "outputs": [
    {
     "name": "stdout",
     "output_type": "stream",
     "text": [
      "Jazi Designs founded by Sarmad Hassan.\n"
     ]
    }
   ],
   "source": [
    "# Reading 2nd line from file\n",
    "with open(\"writing.txt\", \"r\") as file_object:\n",
    "    lines = file_object.readlines()\n",
    "    print(lines[1])"
   ]
  },
  {
   "cell_type": "code",
   "execution_count": 14,
   "metadata": {},
   "outputs": [],
   "source": [
    "# Appending to a file\n",
    "with open(\"writing.txt\", \"a\") as file_object:\n",
    "    file_object.write(\"\\nJazi Designs are working on Data Science.\")"
   ]
  },
  {
   "cell_type": "code",
   "execution_count": 15,
   "metadata": {},
   "outputs": [
    {
     "name": "stdout",
     "output_type": "stream",
     "text": [
      "I like Jazi Designs.\n",
      "Jazi Designs founded by Sarmad Hassan.\n",
      "Jazi Designs are working on Data Science.\n"
     ]
    }
   ],
   "source": [
    "# Reading from file\n",
    "with open(\"writing.txt\", \"r\") as file_object:\n",
    "    lines = file_object.read()\n",
    "    print(lines)"
   ]
  },
  {
   "cell_type": "markdown",
   "metadata": {},
   "source": [
    "### Exceptions"
   ]
  },
  {
   "cell_type": "code",
   "execution_count": 18,
   "metadata": {},
   "outputs": [
    {
     "name": "stdout",
     "output_type": "stream",
     "text": [
      "Enter the name of channel: JaZI DeSIGns\n",
      "Welcome to Jazi Designs\n"
     ]
    }
   ],
   "source": [
    "prompt = \"Enter the name of channel: \"\n",
    "channel = input(prompt)\n",
    "\n",
    "try:\n",
    "    channel.title() == \"Jazi Designs\"\n",
    "\n",
    "except ValueError:\n",
    "    print(\"Please try again\")\n",
    "    \n",
    "else:\n",
    "    print(\"Welcome to Jazi Designs\")"
   ]
  }
 ],
 "metadata": {
  "kernelspec": {
   "display_name": "Python 3",
   "language": "python",
   "name": "python3"
  },
  "language_info": {
   "codemirror_mode": {
    "name": "ipython",
    "version": 3
   },
   "file_extension": ".py",
   "mimetype": "text/x-python",
   "name": "python",
   "nbconvert_exporter": "python",
   "pygments_lexer": "ipython3",
   "version": "3.8.3"
  }
 },
 "nbformat": 4,
 "nbformat_minor": 4
}
